{
 "cells": [
  {
   "cell_type": "markdown",
   "metadata": {},
   "source": [
    "- To run your init.sql:\n",
    "    - `brew services start mysql`\n",
    "    - `mysql -uroot < init.sql`"
   ]
  },
  {
   "cell_type": "markdown",
   "metadata": {},
   "source": [
    "- Overview of `auth` code\n",
    "    - microservices are all running in K8s cluster\n",
    "        - K8s internal network is not accessible from or to outside world by default\n",
    "    - Client wants to make a request from outside the clsuter to make use of our system, via the **API gateway**\n",
    "    - Gateway service will:\n",
    "        - recieve request from client, and communicates with the necessary internal services to fulfill requests received from client\n",
    "        - implement the upload() method to let the gateway communicate with our internal services to make this happen\n",
    "    - But if our internal services are in the a private network, how can we determine whether we can let a public request into our private network?\n",
    "        - The `auth` service handles this!!\n",
    "        - Client credentials live in our `auth` database.\n",
    "        - If they pass their check, the request is allowed to hit our backend"
   ]
  },
  {
   "cell_type": "markdown",
   "metadata": {},
   "source": [
    "- Authentication scheme\n",
    "    - Client provides base 64 encoded username and password in their request\n",
    "    - We compare this to what we have in our mysql db\n",
    "    - If match, continue. Else block request\n",
    "\n",
    "- JSON Web Tokens (JWTs)\n",
    "    - Comprises 3 JSONs that are all base64 encoded. Each base64 encoded string is concatenated together, separated by a `.`\n",
    "    - Note that this isn't encrypted, only encoded\n",
    "    - The 3 parts are:\n",
    "        - Header: comprises the signing algorithm and the type, which is JWT\n",
    "            ```json\n",
    "            {\n",
    "                \"alg\": \"HS256\",\n",
    "                \"type\": \"JWT\"\n",
    "            }\n",
    "            ```\n",
    "        - Payload: contains the user's claims (i.e. what the user claims to be)\n",
    "            ```json\n",
    "            {,\n",
    "                \"name\": \"username\",\n",
    "                \"admin\": False\n",
    "            }\n",
    "            ```\n",
    "        - Signature: Created by taking b64 encoded header and payload, and signing them using HS256 along with the private key stored in the server \n",
    "\n",
    "    - What's the idea of JWTs?\n",
    "        - When the client makes a request, you check if the credentials provided are valid (i.e. check against your DB record)\n",
    "        - Once it is valid, you return the JWT token, which is hashed with information provided by the client AND the secret key in your server\n",
    "        - If the client tries to edit his permission levels once he is authenticated, the JWT hash no longer matches\n",
    "        - So you can see that, having a secret key on your server side helps ensure that the client remains honest"
   ]
  },
  {
   "cell_type": "markdown",
   "metadata": {},
   "source": [
    "- Understanding `server.run(host=\"0.0.0.0\", port=5000)`\n",
    "    - Any server requires an IP address to allow external requests to be directed to it \n",
    "        - In our case, our server is a Docker container, and our application lives within that container\n",
    "        - Once the Docker container spins up, it will be assigned an IP address, which can be used to send requests to our container\n",
    "            - Note that this address exists only within the Docker network\n",
    "    - Obviously, even if you open the address, Flask still needs to know that it has to listen to a specific IP address \n",
    "        - This is where the `host` config comes in\n",
    "        - We use 0.0.0.0 to tell flask to listen to any public IP address that it can find\n",
    "        - Suppose we connect our docker container to 2 networks, Docker will assign 2 separate IP addresses to this container, and 0.0.0.0 will tell flask to listen to requests coming to both"
   ]
  },
  {
   "cell_type": "markdown",
   "metadata": {},
   "source": [
    "- Manifests directory\n",
    "    - After the image is built, you can do the usual `docker build` `docker pull` and `docker run` \n",
    "    - In prd however, we never really want to be specifying the pull and run ourselves\n",
    "    - Instead, we generate the `./manifests` directory to handle the infrastructure code for our `auth` deployment\n",
    "\n",
    "    - Within the manifests dir, we pull the image and deploy it to Kubernetes\n",
    "    \n",
    "    - All of these can be deployed by simply doing `kubectl apply -f ./`"
   ]
  }
 ],
 "metadata": {
  "language_info": {
   "name": "python"
  }
 },
 "nbformat": 4,
 "nbformat_minor": 2
}
