{
 "cells": [
  {
   "cell_type": "markdown",
   "metadata": {},
   "source": [
    "- Stack:\n",
    "    - Python\n",
    "    - MongoDB\n",
    "    - Docker\n",
    "    - Kubernetes\n",
    "    - RabbitMQ\n",
    "    - MySQL\n",
    "\n",
    "- Setup\n",
    "    - Install K8s\n",
    "    - Install kubectl\n",
    "    - Install minikube\n",
    "    - Install k9s\n",
    "    - Install mysql\n",
    "\n",
    "- Commands\n",
    "    - `minikube start`\n",
    "    - `k9s` --> check that you can see your minikube\n",
    "    - `mysql -uroot` --> check mysql installed correctly"
   ]
  }
 ],
 "metadata": {
  "language_info": {
   "name": "python"
  }
 },
 "nbformat": 4,
 "nbformat_minor": 2
}
