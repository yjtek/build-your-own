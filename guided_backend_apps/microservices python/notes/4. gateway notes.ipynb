{
 "cells": [
  {
   "cell_type": "markdown",
   "metadata": {},
   "source": [
    "- What is GridFS?\n",
    "    - BSON has a maximum size of 16MB\n",
    "    - For anything above, MongoDB will use GridFS to manage large files through sharding"
   ]
  },
  {
   "cell_type": "markdown",
   "metadata": {},
   "source": [
    "- How RabbitMQ integrates with our architecture?\n",
    "    - User uploads video to be converted to MP3\n",
    "    - Request hits out API gateway\n",
    "    - API gateway stores video in MongoDB, and puts message into queue\n",
    "        - This lets downstream services know that there is a video to be processed\n",
    "    - Video to MP3 converter service will consume messages from the queue\n",
    "        - It gets ID of video from the message\n",
    "        - Pull video from mongoDB\n",
    "        - Does the conversion\n",
    "        - Store mp3 back in mongoDB\n",
    "        - Put new message in the queue to tell notification service that conversion is done\n",
    "    - Notification service consumes message from queue, and sends email notification to client\n",
    "    - Client will then use unique ID form notification / JWT to make request to API gateway to download the mp3 \n",
    "    - API gateway pulls mp3 from mongoDB and serve to client\n",
    "\n",
    "    - So the queue is really the center piece of this architecture; it conveys messages between components and ensures that requests and job status messages from the various components are not dropped"
   ]
  },
  {
   "cell_type": "markdown",
   "metadata": {},
   "source": [
    "- Microservice Jargon\n",
    "    - Asynchronous/Synchronous Interservice Communication\n",
    "        - Synchronous communication:\n",
    "            - This just means that the client sending the request will wait for the response from the server, and does not do anything else in the meantime\n",
    "            - So the client is \"blocked\" until it gets a response, hence the term \"blocking request\"\n",
    "                - For example, API gateway and auth service is synchronous, because nothing happens until you receive a response, or an error from the auth service\n",
    "                - This means that the services are tightly coupled\n",
    "        - Asynchronous communication:\n",
    "            - Client does not need to await response of downstream service. \"Fire and forget\"\n",
    "            - This is achieved by using a queue. The API gateway posts the request to the queue, and continues processing client requests. The queue is responsible for making sure that the request gets sent to the converter\n",
    "            - If it were synchronous instead, someone converting a big file will block the service for everyone else until the conversion is completed\n",
    "            - So with the queue, the API gateway and the converter service becomes loosely coupled\n",
    "    \n",
    "    - Strong vs Eventual Consistency\n",
    "        - Imagine we send a synchronous request for conversion. Once the user gets notified that the conversion is done, he is guaranteed to download the latest version of the conversion. Hence, the file transfer is strongly consistent\n",
    "        - Eventual consistency is, for example, if you do an asynchronous request. And you try to download the mp3 from mongoDB immediately. Though the ID exists, it is null, because conversion is not completed yet. It will eventually be completed, however, user has to contend with a period when the ID exists but the conversion does not"
   ]
  },
  {
   "cell_type": "markdown",
   "metadata": {},
   "source": [
    "- How does RabbitMQ work?\n",
    "    - Our use of RabbitMQ in this app is mainly through `channel.basic_publish`\n",
    "    - Under the hood, posting a message to RabbitMQ comprises\n",
    "        1. producer sends message to rabbitMQ broker\n",
    "        2. message enters an \"exchange\", which basically routes the message to the right queue. \n",
    "        3. The message then **binds** to a queue\n",
    "        4. The message gets popped and consumed by consumer\n",
    "    - If the queue starts getting stuffed full of messages, we can scale up our consumers to process messages concurrently\n",
    "    - By default, RabbitMQ will dispatch messages to consumers using round robin\n",
    "\n",
    "    - You need to make your queue durable, so in the event that the pod dies, the messages will still exist after it spins back up\n",
    "    ```python\n",
    "        properties=pika.BasicProperties(delivery_mode=pika.spec.PERSISTENT_DELIVERY_MODE)\n",
    "    ```"
   ]
  },
  {
   "cell_type": "markdown",
   "metadata": {},
   "source": [
    "- What is an `Ingress` in K8s?\n",
    "    - Notice here we have an extra manifest file, where we deploy an Ingress type. What exactly is this?\n",
    "    - Let's first think about what a service is in K8s\n",
    "        - A K8s service is a single point of entry to a group of pods\n",
    "        - for example, here we want a gateway service, which we want to be able to scale up to multiple pods if the requests increase\n",
    "        - So the service groups all of our gateway pods together, by using a **selector**. In our case, we use a label selector (i.e. `selector: matchLabels: app: gateway`) to determine which pods are part of its group\n",
    "        - So once we define a service, we can literally forget about individual pods. Everything is abstracted away from us. You just manage the service\n",
    "\n",
    "    - So this service sits in our cluster, which is a private network\n",
    "        - However, we need to allow requests from outside our cluster to hit our gateway service. Otherwise obviously there's no way for other people to use your service\n",
    "        - We do this by using an `Ingress`\n",
    "        - An Ingress comprises:\n",
    "            - A loadbalancer\n",
    "            - A set of rules\n",
    "                - Rules basically control where requests hitting our load balancer are routed"
   ]
  },
  {
   "cell_type": "markdown",
   "metadata": {},
   "source": [
    "- To test your service\n",
    "    - `minikube addons enable ingress`\n",
    "    - `minikube tunnel` --> Use the loopback address that you specified in etcd"
   ]
  }
 ],
 "metadata": {
  "language_info": {
   "name": "python"
  }
 },
 "nbformat": 4,
 "nbformat_minor": 2
}
