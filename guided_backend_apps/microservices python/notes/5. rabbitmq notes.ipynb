{
 "cells": [
  {
   "cell_type": "markdown",
   "metadata": {},
   "source": [
    "- What is a `StatefulSet` in RabbitMQ?\n",
    "    - Recall that we want a persistent queue. If the pod dies, we should not lose queue data\n",
    "    - A StatefulSet is like a kubernetes deployment in the sense that it manages a set of pods based on some ReplicaSet\n",
    "    - But unlike a deployment, a statefulset has a persistent identifier that it maintains across any rescheduling\n",
    "    - So if a pod fails, the identifiers make it easier to match existing volumes to the new pods that replace the failed pods\n",
    "    - How does this help us persist the messages in the event that our RabbitMQ pod goes down?\n",
    "        - Basically, we will mount the physical storage from our host to the container instance\n",
    "        - If the container dies, the storage volume will still remain intact\n",
    "\n",
    "- Practically, to do this mounting, see the `volumeMounts` section of your `statefulset.yaml`\n",
    "\n",
    "- Also notice that we set up a `persistentVolumeClaim` in the statefulset.yaml\n",
    "    - What is this?\n",
    "    - This lets you tell k8s that you want to create a directory to store information persistently"
   ]
  }
 ],
 "metadata": {
  "language_info": {
   "name": "python"
  }
 },
 "nbformat": 4,
 "nbformat_minor": 2
}
