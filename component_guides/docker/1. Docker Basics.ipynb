{
 "cells": [
  {
   "cell_type": "markdown",
   "metadata": {},
   "source": [
    "# Docker"
   ]
  },
  {
   "cell_type": "markdown",
   "metadata": {},
   "source": [
    "## Motivation: Why you need docker?"
   ]
  },
  {
   "cell_type": "markdown",
   "metadata": {},
   "source": [
    "- Suppose you want to run an app with multiple components (NodeJS, MongoDB, Redis as messaging system, Ansible for orchestration)\n",
    "- Suppose you want to run these all on the same machine. Immediately, you run into some problems\n",
    "    - All of these may not be 100% compatible with the same underlying OS\n",
    "    - Even if all components are compatible, their dependencies may not be\n",
    "    - Difference between dev/stg/prd envs\n",
    "\n",
    "- With Docker, you get to run all these components in their own container, with their own libs and dependencies\n",
    "\n",
    "- Anyone can duplicate the environment with `docker run`"
   ]
  },
  {
   "cell_type": "markdown",
   "metadata": {},
   "source": [
    "## What is Docker?"
   ]
  },
  {
   "cell_type": "markdown",
   "metadata": {},
   "source": [
    "- Docker sets up each component into its own container\n",
    "    - Each container is an isolated environment, with their own processes and services, network interfaces, and mounts\n",
    "    - Kind of like virtual machines, except they all share a common operating system kernel!\n",
    "    - Docker uses LXC containers"
   ]
  },
  {
   "cell_type": "markdown",
   "metadata": {},
   "source": [
    "- What does it mean for containers to share a common OS kernel? \n",
    "    - Think of an OS like Ubuntu, Fedora etc\n",
    "    - There are 2 components to an OS; an OS kernel, and some set of software\n",
    "        - OS Kernal deals with the interfacing with underlying hardware\n",
    "        - Software environment makes the environment different; includes things like drivers, compilers, file managers etc\n",
    "    - So suppose we set up Docker containers on an Ubuntu OS; then all the containers will be running on Ubuntu kernel, differing only in their software set up \n",
    "        - i.e. if your docker host runs on Ubuntu, you can't set up a Windows container\n",
    "    - With that said, there are obviously already seamless workarounds for this\n",
    "        - For example, you can download Docker on windows, and set up a linux container\n",
    "        - What is happening here is simply that Windows runs a Linux VM which runs the Docker container. So the rule above isn't violated, just abstracted away\n",
    "\n",
    "- Is it a disadvantage to not be able to run another kernel on the OS?\n",
    "    - Not really. Docker is not a hypervisor; it is not meant to run different OS and Kernels on the same hardware\n",
    "    - Instead, the purpose is to package and containerize apps for easy re-running"
   ]
  },
  {
   "cell_type": "markdown",
   "metadata": {},
   "source": [
    "## What is the difference between a VM and a Docker container?"
   ]
  },
  {
   "cell_type": "markdown",
   "metadata": {},
   "source": [
    "- In Docker, the containers share the same OS kernel. But in VMs, the containers run different OS\n",
    "    - As such, VMs create higher overhead to support multiple OS kernels \n",
    "    - So Docker is typically faster to spin up vs minutes\n",
    "    - Keep in mind that, because Docker has the shared OS component between conainers, it's not really isolated compared to a VM\n",
    "\n",
    "- Docker Stack:\n",
    "    - Hardware\n",
    "    - OS\n",
    "    - Docker\n",
    "        - Container 1: App, Libs, Dependencies\n",
    "        - Container 2: App, Libs, Dependencies\n",
    "- VM Stack:\n",
    "    - Hardware\n",
    "    - Hypervisor (e.g. ESX)\n",
    "        - Virtual Machine 1: OS, App. Libs, Dependencies \n",
    "        - Virtual Machine 2: OS, App. Libs, Dependencies \n",
    "\n",
    "- Do keep in mind, containers vs VMs are not an either-or situtation\n",
    "    - You can run containers on VMs\n",
    "    - This lets you use the benefits of virtualisation to easily start/decommission docker hosts for easy scaling, while using Docker for easy spin up of apps\n",
    "    - Example stack:\n",
    "        - Hardware\n",
    "        - Hypervisor\n",
    "            - VM1\n",
    "                - OS\n",
    "                - Docker\n",
    "                    - Container1\n",
    "                    - Container2\n",
    "            - VM2\n",
    "                ...\n",
    "\n",
    "- DockerHub lets you publish and distribute the images for your systems, to make them easy to run\n",
    "    - So suppose I want to have 1 mongoDb instance, I just run `docker run mongodb`\n",
    "    - If I want MULTIPLE mongodb instances, I just do `docker run` multiple times\n",
    "    - Then throw a load balancer in front to sort out traffic\n"
   ]
  },
  {
   "cell_type": "markdown",
   "metadata": {},
   "source": [
    "## What is the difference between Images and Containers?"
   ]
  },
  {
   "cell_type": "markdown",
   "metadata": {},
   "source": [
    "- An image is a template (like a VM template) that you can use to create a container\n",
    "- A container is a **running instance** of an image\n",
    "\n",
    "- Previously, developers and ops teams need to dedicate time to ensure the app developed works on all machines. Now, they simply collaboratively define a Docker file, which sets up the environment that guarantees the app's runnability\n",
    "\n",
    "- Hence `DevOps`"
   ]
  },
  {
   "cell_type": "markdown",
   "metadata": {},
   "source": []
  }
 ],
 "metadata": {
  "language_info": {
   "name": "python"
  }
 },
 "nbformat": 4,
 "nbformat_minor": 2
}
