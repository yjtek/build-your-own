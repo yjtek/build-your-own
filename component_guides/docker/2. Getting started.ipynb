{
 "cells": [
  {
   "cell_type": "markdown",
   "metadata": {},
   "source": [
    "## Docker commands"
   ]
  },
  {
   "cell_type": "markdown",
   "metadata": {},
   "source": [
    "- `docker run <image name>` \n",
    "    - Run a docker container using an image \n",
    "    - Pull image if it doesn't exist from Docker Hub (only done once)\n",
    "    - e.g. `docker run nginx`\n",
    "\n",
    "- `docker ps`\n",
    "    - List all running containers\n",
    "    - Use `-a` argument to show all containers (whether running or not)\n",
    "\n",
    "- `docker stop <name>`\n",
    "    - stop specific running container\n",
    "\n",
    "- `docker rm <name>`\n",
    "    - After a container is stopped, it may still exist. Use this to remove it permanently\n",
    "\n",
    "- `docker images`\n",
    "    - See list of images and sizes\n",
    "\n",
    "- `docker rmi <image name>`\n",
    "    - Remove specific image you no longer need\n",
    "\n",
    "- `docker pull <image name>`\n",
    "    - Pull image from dockerhub without running\n",
    "\n",
    "- `docker exec <container name> cat /etc/hosts`\n",
    "    - Runs `cat /etc/hosts` on the docker container!\n",
    "\n",
    "- `docker exec <container name> cat /etc/hosts`\n",
    "    - Runs `cat /etc/hosts` on the docker container!\n",
    "\n",
    "- `docker run some-webapp`\n",
    "    - If you do this, docker runs in attached mode. That means, you are \"attached\" to the console/stdout of the Docker container\n",
    "    - So imagine if you run some simple webapp (i.e. streamlit). Basically your stdout locks up with the server logs until you CTRL+C to stop the task\n",
    "    - And you won't be able to do anything except view the output until the Docker container stops, because the stdout is being \"used\"\n",
    "    - To avoid this, use the `-d` argument to run the container in background (or detached) mode\n",
    "    - If you want to reattach, just run `docker attach <container name>`"
   ]
  },
  {
   "cell_type": "markdown",
   "metadata": {},
   "source": [
    "## Note"
   ]
  },
  {
   "cell_type": "markdown",
   "metadata": {},
   "source": [
    "- If you run `docker run ubuntu`, you will find that the container shuts down automatically after some time. Why?\n",
    "    - A container only lives as long as the process inside it is alive\n",
    "    - So if you run ubuntu, it stops immediately, because Ubuntu is just the base that allows other applications to run. There are no \"live\" proccesses in it by default!\n",
    "\n",
    "- To keep docker images alive, you can append a command to `ubuntu run` to let it run something upon start up\n",
    "    - `docker run ubuntu sleep 5`"
   ]
  }
 ],
 "metadata": {
  "language_info": {
   "name": "python"
  }
 },
 "nbformat": 4,
 "nbformat_minor": 2
}
