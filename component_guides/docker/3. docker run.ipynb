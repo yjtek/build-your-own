{
 "cells": [
  {
   "cell_type": "markdown",
   "metadata": {},
   "source": [
    "# Docker Run"
   ]
  },
  {
   "cell_type": "markdown",
   "metadata": {},
   "source": [
    "## Image versioning"
   ]
  },
  {
   "cell_type": "markdown",
   "metadata": {},
   "source": [
    "- `docker run redis`\n",
    "    - Automatically runs latest version of redis\n",
    "- `docker run redis:4.0`\n",
    "    - Runs the tagged version of Redis (4.0)"
   ]
  },
  {
   "cell_type": "markdown",
   "metadata": {},
   "source": [
    "## STDIN/STDOUT from Docker Containers"
   ]
  },
  {
   "cell_type": "markdown",
   "metadata": {},
   "source": [
    "- By default, Docker doesn't listen to stdin, because it doesn't have a \"terminal\" to look at per se\n",
    "    - If you want stdin behaviour, you must map the stdin of your host to the docker container using interactive mode `-i`\n",
    "\n",
    "- `docker run -i some-stdin-app`\n",
    "    - This lets you input stuff \n",
    "\n",
    "- What if my app also has a prompt? With `-i` we accept stdin, but we have not defined a place where the container can output to the Docker host on stdout\n",
    "\n",
    "- `docker run -it some-stdin-app`\n",
    "    - This lets you input stuff AND output stuff"
   ]
  },
  {
   "cell_type": "markdown",
   "metadata": {},
   "source": [
    "## Port Mapping"
   ]
  },
  {
   "cell_type": "markdown",
   "metadata": {},
   "source": [
    "- `docker run -p 80:5000 some-webapp`\n",
    "\n",
    "- When you run a container within the docker host, you get assigned an internal IP\n",
    "    - So suppose you have an app that is assigned to 123.45.67.89 within the host, if you open a browser and go to this address, you can access the app\n",
    "- But if you are outside the docker host, you can't access it using this IP! Instead, you can only access the Docker host's IP address then access the app port\n",
    "    - To allow this, you need to **forward** the port from the container to the host. For example, if my app is running on port 5000, and I want external users to access it through port 80 of my docker host, I simply map port 80 of my host to port 5000 from my container\n",
    "- This mapping lets you run multiple instances of the same app and map them to different ports of the docker host\n",
    "    - OR you can run different applications on different ports \n",
    "\n",
    "- Example stack setup:\n",
    "    - `docker run -p 80:5000 simple-webapp`\n",
    "    - `docker run -p 8000:5000 simple-webapp`\n",
    "    - `docker run -p 8001:5000 simple-webapp`\n",
    "    - `docker run -p 3306:3306 mysql`\n",
    "    - `docker run -p 8306:3306 mysql`"
   ]
  },
  {
   "cell_type": "markdown",
   "metadata": {},
   "source": [
    "## Volume Mapping for Persistent Data"
   ]
  },
  {
   "cell_type": "markdown",
   "metadata": {},
   "source": [
    "- Lets say we run a mysql container `docker run mysql`\n",
    "    - Within the docker container, data is stored in path `/var/lib/mysql`\n",
    "    - Docker container has its own isolated file system, and any changes to any file happens **within** the container\n",
    "\n",
    "- What happens when we do a `docker stop mysql` and `docker rm mysql`?\n",
    "    - ALL our data is gone. Because the data is not **persistent**!\n",
    "\n",
    "- To persist data\n",
    "    - We create data on the **docker host** instead of in the container\n",
    "    - Then we map that directory to the container using the `-v` arugment (volume)\n",
    "\n",
    "- `docker run -v /opt/datadir:/var/lib/mysql mysql`\n",
    "    - Here, we map the directory `/opt/datadir` from Docker Host to the `/var/lib/mysql` in the container\n",
    "    - Whenever a container starts up, it accesses the data from docker host, creating the illusion of a persistent database\n"
   ]
  },
  {
   "cell_type": "markdown",
   "metadata": {},
   "source": [
    "## Getting container information"
   ]
  },
  {
   "cell_type": "markdown",
   "metadata": {},
   "source": [
    "- `docker ps <container name>`\n",
    "- `docker inspect <container name>`\n",
    "- `docker logs <container name>`"
   ]
  },
  {
   "cell_type": "markdown",
   "metadata": {},
   "source": []
  }
 ],
 "metadata": {
  "kernelspec": {
   "display_name": "app-x-YnaYbe-py3.12",
   "language": "python",
   "name": "python3"
  },
  "language_info": {
   "name": "python",
   "version": "3.12.3"
  }
 },
 "nbformat": 4,
 "nbformat_minor": 2
}
