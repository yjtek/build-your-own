{
 "cells": [
  {
   "cell_type": "markdown",
   "metadata": {},
   "source": [
    "- What is a registry?\n",
    "    - Central repository of all docker images\n",
    "\n",
    "- Imagine we do `docker run nginx`\n",
    "    - In this case, `nginx` is really a shorthand for `nginx/nginx`\n",
    "        - The first `nginx` is the username (account name), and the second is the iamge name\n",
    "        - So the command becomes `docker run nginx/nginx`\n",
    "    - Where are the images stored and pulled from?\n",
    "        - Since it is not specified, the assumption is that it is pulled from Docker hub\n",
    "        - The DNS name for this is `docker.io`, this is known as the registry \n",
    "        - So the command becomes `docker run docker.io/nginx/nginx`\n",
    "        - Other common registries are `gcr.io`\n",
    "\n",
    "- Of course, if you are running a company, you want to have a private registry, which are provided by AWS etc\n",
    "    - To login to private registry, simply do `docker login private-registry.io`\n",
    "    - Then simply do `docker run private-registry.io/account-name/app-name`\n",
    "\n",
    "- Alternatively, you may want to deploy your own private registry within your on-prem system\n",
    "    - You can run this by simply doing `docker run -d -p 5000:5000 --name registry registry:2`\n",
    "    - Then just tag images using `docker image tag my-image localhost:5000/my-image`\n",
    "        - You can use local host because the registry is hosted on-prem and thus share the same network\n",
    "    - Finally `docker push localhost:5000/my-image` / `docker pull localhost:5000/my-image` / `docker push <ip address>/my-image`\n"
   ]
  },
  {
   "cell_type": "markdown",
   "metadata": {},
   "source": []
  }
 ],
 "metadata": {
  "language_info": {
   "name": "python"
  }
 },
 "nbformat": 4,
 "nbformat_minor": 2
}
