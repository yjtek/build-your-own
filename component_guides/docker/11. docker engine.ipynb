{
 "cells": [
  {
   "cell_type": "markdown",
   "metadata": {},
   "source": [
    "- This is a deep dive on the architecture of a docker engine\n",
    "\n",
    "- What is docker engine?\n",
    "    - Docker engine is simply a host with docker installed on it\n",
    "\n",
    "- When you install docker on a linux host, you install 3 components\n",
    "    - Docker CLI\n",
    "        - The docker CLI we use to do things (create images, create containers etc)\n",
    "        - Uses the REST API to talk to the docker daemon\n",
    "    - REST API\n",
    "        - interface used by programmes to talk to the docker daemon\n",
    "        - You can create your own tools that uses this API\n",
    "    - Docker Daemon\n",
    "        - Background process that manages docker objects (images, containers, volumes, networks)\n",
    "\n",
    "- Note that the CLI does not always have to be on the same host\n",
    "    - You can always have a remote computer sending commands via the API to the daemon\n",
    "    - This functionality is provided with the paramter `docker -H=remote-docker-engine:2375 ...`\n",
    "        - For example, I can tell a remote docker engine to run nginx by doing `docker -H=remote-docker-engine:2375 run nginx`"
   ]
  },
  {
   "cell_type": "markdown",
   "metadata": {},
   "source": [
    "## Containerisation under the hood"
   ]
  },
  {
   "cell_type": "markdown",
   "metadata": {},
   "source": [
    "- Docker uses namespaces to isolate\n",
    "    - Workspace\n",
    "    - Process ID\n",
    "    - Networks\n",
    "    - Interprocess\n",
    "    - Unix Timesharing systems\n",
    "    - Mounts\n",
    "\n",
    "- There are many ways to do namespace isolation. The common one (most obvious to all docker users) is process ID namespace (PID)\n",
    "\n",
    "- When a Linux system boots up, it starts with root process (PID 1) which kicks off all other processes in the system\n",
    "    - Once the system fully boots up, there are a handful of processes running, so a handful of PIDs (use `ps` to see this)\n",
    "    - PIDs are unique; no 2 processes can share a PID\n",
    "\n",
    "- Suppose we create a container within the current system\n",
    "    - The child system needs to think it is an independent system, so it restarts the PID numbering from 1 again\n",
    "    - But we know that in Docker, there is no isolation between the container and the docker host\n",
    "        - So all processes in docker also have a separate PID on the host\n",
    "\n",
    "- Since you cannot have 2 processes with PID 1, docker uses namespace to distinguish between the PID1 of the docker host, and the PID1 of the container\n",
    "\n",
    "- So the docker host and containers share the same system resources (CPU, memory)\n",
    "    - By default, there is no limit to how much resources the container can use, so it is possible for an overly large container to crash the host\n",
    "    - To restrict the amount of CPU/memory a container can use, you can use `cgroups` (or control groups) to allocate the amount of hardware resources to a container\n",
    "    - You can use `--cpu 0.5 --memory 100M` to allocate a max of 50% of hardware to the container and 100M of memory"
   ]
  },
  {
   "cell_type": "markdown",
   "metadata": {},
   "source": []
  }
 ],
 "metadata": {
  "language_info": {
   "name": "python"
  }
 },
 "nbformat": 4,
 "nbformat_minor": 2
}
