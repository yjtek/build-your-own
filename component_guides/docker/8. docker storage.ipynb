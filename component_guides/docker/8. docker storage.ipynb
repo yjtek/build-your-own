{
 "cells": [
  {
   "cell_type": "markdown",
   "metadata": {},
   "source": [
    "## File system"
   ]
  },
  {
   "cell_type": "markdown",
   "metadata": {},
   "source": [
    "- When you install docker on a system, you get this folder structure: `var/lib/docker`\n",
    "    - This will contain subdirs like `aufs`, `containers`, `image`, ...\n",
    "    - This is where docker stores all its data by default\n"
   ]
  },
  {
   "cell_type": "markdown",
   "metadata": {},
   "source": [
    "## Layered Architecture Advantage"
   ]
  },
  {
   "cell_type": "markdown",
   "metadata": {},
   "source": [
    "- Recall from `5. docker images.ipynb` that Docker builds images as layers\n",
    "- Every layer is stored as an increment from the previous layer\n",
    "\n",
    "- What's the advantage of doing this? Imagine we have these 2 Dockerfiles    \n",
    "    - File 1:\n",
    "        ```docker\n",
    "        FROM ubuntu\n",
    "\n",
    "        RUN apt-get update && apt-get -y install python\n",
    "\n",
    "        RUN pip install flask flask-mysql\n",
    "\n",
    "        COPY . /opt/source-code\n",
    "\n",
    "        ENTRYPOINT FLASK_APP=/opt/source-code/app.py flask run        \n",
    "        ```\n",
    "    \n",
    "    - File 2:\n",
    "        ```docker\n",
    "        FROM ubuntu\n",
    "\n",
    "        RUN apt-get update && apt-get -y install python\n",
    "\n",
    "        RUN pip install flask flask-mysql\n",
    "\n",
    "        COPY app2.py /opt/source-code\n",
    "\n",
    "        ENTRYPOINT FLASK_APP=/opt/source-code/app2.py flask run        \n",
    "        ```\n",
    "\n",
    "- From these 2 files, the only difference is only in the last 2 commands \n",
    "    - Due to the layered building architecture, the first 3 layers are REUSED from the build of the first docker file, thereby saving time\n"
   ]
  },
  {
   "cell_type": "markdown",
   "metadata": {},
   "source": [
    "- So what exactly happens in the build phase?\n",
    "    - Step 1: Image layer. Everything before this point is frozen; no changes are allowed. To change this, you need to create a new build\n",
    "        - Base Ubuntu layer\n",
    "        - apt packages\n",
    "        - pip packages\n",
    "        - Source code copy\n",
    "        - Define entry point\n",
    "    \n",
    "    - Step 2: Container layer. A container layer is created based off the layers from the previous step\n",
    "        - This is a writeable layer\n",
    "        - Stores data created by the container (log files, temporary files)\n",
    "        - Only lasts as long as container is alive\n",
    "        - If containers use the same image layer, it means they are sharing stuff in the image layer\n",
    "        - If, for whatever reason, you want to modify the files in the image layer, Docker copies the file you want to modify onto the container layer and modifies it there. NOT the actual file from image layer\n",
    "            - This is known as `copy on write`"
   ]
  },
  {
   "cell_type": "markdown",
   "metadata": {},
   "source": [
    "## Persistent data storage"
   ]
  },
  {
   "cell_type": "markdown",
   "metadata": {},
   "source": [
    "- Of course, while this image/container layer separation helps with the speed of the container spin up, it also has a glaring disadvantage; you cannot persist data easily in your container\n",
    "\n",
    "- To do this, you need to use **volumes**\n",
    "\n",
    "- Steps to set up persistent storage\n",
    "    - `docker volume create some_persistent_volume`\n",
    "        - This tells docker to create a persistent volume directory in the docker host, under `/var/lib/docker/volumes/some_persistent_volume`\n",
    "    - `docker run -v some_persistent_volume:/var/lib/mysql mysql`   \n",
    "        - Next, map the volume to the docker run command\n",
    "        - This creates a new container, and mounts the data volume into the container\n",
    "        - So all data written to the database lives on the docker host!\n",
    "        - In fact, the `-v` will automatically do the `docker volume create` if it finds that the volume you specify does not exist yet!\n",
    "    - If you have another data somewhere else in docker host that you want to use as the mount, simply provide the full path using the `-v` parameter\n",
    "    \n",
    "    - If you use the default volume approach, it is called **volume mounting**. If you specify yourown path, this is known as **bind mounting**\n",
    "\n",
    "    - The more modern and also recommended syntax to do this is now `docker run --mount type=bind, source=/data/mysql, target=/var/lib/mysql mysql`"
   ]
  },
  {
   "cell_type": "markdown",
   "metadata": {},
   "source": [
    "- More broadly, the **storage driver** is the component of docker responsible for maintaining the layered architecture, creating a writable layer, moving files etc\n",
    "\n",
    "- Common storage drivers are\n",
    "    - AUFS (default for Ubuntu)\n",
    "    - ZFS\n",
    "    - BTRFS\n",
    "    - Device Mapper\n",
    "    - Overlay\n",
    "    - Overlay2"
   ]
  }
 ],
 "metadata": {
  "language_info": {
   "name": "python"
  }
 },
 "nbformat": 4,
 "nbformat_minor": 2
}
