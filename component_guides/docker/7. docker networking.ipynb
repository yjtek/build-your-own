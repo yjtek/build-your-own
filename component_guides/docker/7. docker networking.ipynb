{
 "cells": [
  {
   "cell_type": "markdown",
   "metadata": {},
   "source": [
    "## Built in Network types"
   ]
  },
  {
   "cell_type": "markdown",
   "metadata": {},
   "source": [
    "- Docker creates 3 networks automatically upon installation\n",
    "    - bridge / none / host\n",
    "    - bridge is the default\n",
    "    - if you want to use another network, use `docker run ubuntu --network=host`\n"
   ]
  },
  {
   "cell_type": "markdown",
   "metadata": {},
   "source": [
    "### Bridge"
   ]
  },
  {
   "cell_type": "markdown",
   "metadata": {},
   "source": [
    "- The bridge network is a private network created on the *docker host*\n",
    "    - All containers attach to this network by default, and get an internal IP address\n",
    "\n",
    "- To access these containers, we can map the ports of the containers to ports on the docker host"
   ]
  },
  {
   "cell_type": "markdown",
   "metadata": {},
   "source": [
    "### Host"
   ]
  },
  {
   "cell_type": "markdown",
   "metadata": {},
   "source": [
    "- Alternatively, to access the containers externally without mapping ports, associate the container with the host network\n",
    "\n",
    "- This removes any isolation between the docker host and the docker container; so if you run a webserver on port 5000 in an app container, it is automatically accessible on the same port externally without requiring any port mapping \n",
    "    - i.e. container using host network\n",
    "\n",
    "- BUT now, you cannot run multiple containers on the same host on the same port\n",
    "    - because the ports are common to all containers in the host network"
   ]
  },
  {
   "cell_type": "markdown",
   "metadata": {},
   "source": [
    "### None"
   ]
  },
  {
   "cell_type": "markdown",
   "metadata": {},
   "source": [
    "- With `None`, container is not attached to any network, and so won't have any external network or to other containers"
   ]
  },
  {
   "cell_type": "markdown",
   "metadata": {},
   "source": [
    "## Custom Network: User Defined Network"
   ]
  },
  {
   "cell_type": "markdown",
   "metadata": {},
   "source": [
    "- We have seen the 3 built in network options\n",
    "- What if I want something more complicated? \n",
    "    - For example, I want to deploy 4 containers in a container, where containers 1 and 2 must communicate with each other, containers 3 and 4 must communicate with each other\n",
    "    - BUT the pairs cannot communicate \n",
    "\n",
    "- Create a custom network!\n",
    "    - `docker network create --driver bridge --subnet 182.18.0.0/16 custom-isolated-network`\n",
    "\n",
    "- Check all available networks\n",
    "    - `docker network ls`\n",
    "\n",
    "- Use `docker inspect <container>` to check container network\n"
   ]
  },
  {
   "cell_type": "markdown",
   "metadata": {},
   "source": [
    "## Networking containers with embedded DNS"
   ]
  },
  {
   "cell_type": "markdown",
   "metadata": {},
   "source": [
    "- Suppose I have a container running a webserver, and a container running `mysql` on the same node\n",
    "- How can I get my webserver to connect to the mysql database?"
   ]
  },
  {
   "cell_type": "markdown",
   "metadata": {},
   "source": [
    "- [Bad] Option 1: Use internal IP address assigned to MySQL container\n",
    "    - `mysql.connect('123.45.67.89')`\n",
    "    - This option sucks. Because every time you restart the system, the internal IP address reference will change\n",
    "\n",
    "- [Good] Option 2: Use the container name\n",
    "    - All containers in the same Docker host can resolve each other with the name of the container \n",
    "    - Docker has a built-in DNS server that helps the containers resolve each other using container name!!\n",
    "    - Note that this built in DNS server always runs at `127.0.0.11`"
   ]
  },
  {
   "cell_type": "markdown",
   "metadata": {},
   "source": [
    "- How does Docker implement networking?\n",
    "    - Docker uses network namespaces that creates a separate namespace for each container\n",
    "    - Then it uses virtual ethernet pairs to connect containers together"
   ]
  },
  {
   "cell_type": "markdown",
   "metadata": {},
   "source": []
  }
 ],
 "metadata": {
  "language_info": {
   "name": "python"
  }
 },
 "nbformat": 4,
 "nbformat_minor": 2
}
