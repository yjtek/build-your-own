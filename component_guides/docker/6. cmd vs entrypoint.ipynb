{
 "cells": [
  {
   "cell_type": "markdown",
   "metadata": {},
   "source": [
    "- Recall from `2. Getting started.ipynb` that if we try to `docker run ubuntu`, container will start and die because `ubuntu` has no live processes, and containers are only alive as long as there is a living process"
   ]
  },
  {
   "cell_type": "markdown",
   "metadata": {},
   "source": [
    "- So what determines what processes are run within the container?\n",
    "    - In the Dockerfile for stuff like nginx, you will see things like `CMD [\"nginx\"]` or `CMD [\"mysqld\"]`\n",
    "    - In the `ubuntu` Dockerfile, you will see `CMD [\"bash\"]`\n",
    "    - bash isn't really a process; just a shell that listens for inputs from terminal. If the termianl doesn't exist it exits\n",
    "\n",
    "- How do we specify a different command to start a container then?\n",
    "    - Option 1: Append a command to the `docker run` command, which overrides the default command specified within the image\n",
    "        - `docker run ubuntu sleep 5` --> container starts, run the sleep program, sleep, then exit\n",
    "        - This is clearly impermanent\n",
    "    - Option 2: Add command to Dockerfile   \n",
    "        - `CMD sleep 5`  OR `CMD ['sleep', '5']`\n",
    "        - Then build the image with a unique name and run as per usual `docker build -t ubuntu-sleep .` and `docker run ubuntu-sleep`\n",
    "\n",
    "- Now imagine, instead of sleeping 5 seconds, we want it to sleep for 10 seconds\n",
    "    - Suppose our dockerfile is this\n",
    "        ```dockerfile\n",
    "        FROM ubuntu\n",
    "        CMD sleep 5\n",
    "        ```\n",
    "    - To overwrite the CMD, we can simply do `docker run ubuntu-sleep sleep 10`\n",
    "\n",
    "    - OR we can parameterise with ENTRYPOINT, to allow the command line input to be appended to the start up command!\n",
    "        ```dockerfile\n",
    "        FROM ubuntu\n",
    "        ENTRYPOINT ['sleep']\n",
    "        ```\n",
    "\n",
    "        `docker run ubuntu-sleep 10`\n",
    "\n",
    "- TLDR; `CMD` gets overwritten when you pass a command, but stuff gets appended to `ENTRYPOINT` \n",
    "    - You can even combine the 2 to set a default value to pass, which allows for overwriting\n",
    "        ```dockerfile\n",
    "        FROM ubuntu\n",
    "        ENTRYPOINT [\"sleep\"]\n",
    "        CMD [\"5\"] ## automatically uses sleep 5, but allows overwriting\n",
    "        ```"
   ]
  },
  {
   "cell_type": "markdown",
   "metadata": {},
   "source": []
  }
 ],
 "metadata": {
  "language_info": {
   "name": "python"
  }
 },
 "nbformat": 4,
 "nbformat_minor": 2
}
