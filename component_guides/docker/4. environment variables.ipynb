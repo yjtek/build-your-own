{
 "cells": [
  {
   "cell_type": "markdown",
   "metadata": {},
   "source": [
    "## Parameterising your application"
   ]
  },
  {
   "cell_type": "markdown",
   "metadata": {},
   "source": [
    "- Let's suppose you have a site with a variable that lets you change the background colour\n",
    "    - In the code, there is `os.environ.get('APP_COLOUR')` that controls this\n",
    "    - When running the app, you simply do `export APP_COLOUR=blue; python3 app.py`\n",
    "\n",
    "- How do you do this in a docker image? Use the `-e` parameter\n",
    "    - `docker run -e APP_COLOUR=blue some-webapp`"
   ]
  },
  {
   "cell_type": "markdown",
   "metadata": {},
   "source": [
    "## Check existing environment variables"
   ]
  },
  {
   "cell_type": "markdown",
   "metadata": {},
   "source": [
    "- If a container is already running, how do I check the existing environment variables?\n",
    "    - `docker inspect <container name>`"
   ]
  }
 ],
 "metadata": {
  "language_info": {
   "name": "python"
  }
 },
 "nbformat": 4,
 "nbformat_minor": 2
}
