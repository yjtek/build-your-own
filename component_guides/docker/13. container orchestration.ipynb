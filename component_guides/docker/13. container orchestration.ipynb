{
 "cells": [
  {
   "cell_type": "markdown",
   "metadata": {},
   "source": [
    "- When you do a `docker run ...`, this runs one instance of your application\n",
    "    - What happens when more people use your app?\n",
    "    - You do another `docker run ...`\n",
    "\n",
    "- But after you do this a few times, you now need to worry about distributing load across your instances, and checking the performance of each instance\n",
    "    - Imagine if your app needs 4 components (database, messaging, front end, backend)\n",
    "    - Every time you want to scale your app, you need to set up 4 new containers\n",
    "    - And monitoring these even for a moderate size app will get...messy\n",
    "    - Not only do you need to worry about the health of your instances, but also the health of your docker host!\n",
    "\n",
    "- This is where container orchestration comes in\n",
    "    - Container orchestration solution comprises a set of tools/scripts to help host containers in prod\n",
    "    - Typically consists of multiple docker hosts, so application doesn't wholly go down even if a host fails\n",
    "    - You can basically start hundreds of instances with a single command\n",
    "        - e.g. `docker service create --replicas=100 nodejs`\n",
    "\n",
    "- There are a few orchestration solutions today\n",
    "    - Docker Swarm\n",
    "    - Kubernetes\n",
    "    - Mesos"
   ]
  },
  {
   "cell_type": "markdown",
   "metadata": {},
   "source": [
    "## Docker Swarm"
   ]
  },
  {
   "cell_type": "markdown",
   "metadata": {},
   "source": [
    "- Allows you to combine multiple docker machines together into a single cluster\n",
    "- Takes care of distributing your services/instances into separate hosts for high availability and load balancing\n",
    "\n",
    "- Set up:\n",
    "    - Have multiple hosts with Docker installed\n",
    "    - Then designate 1 host to be the swarm manager, and the others as workers\n",
    "    - Then run `docker swarm init` on the swarm manager\n",
    "    - Then copy the `docker swarm join --token ...` command and run it on each of the workers\n",
    "\n",
    "- Now to set up my application; how do I use my cluster to run multiple instances of my webapp?\n",
    "    - Run `docker run my-webapp` on each worker node? That obviously sucks\n",
    "    - Use docker swarm orchestrator!\n",
    "    - Create a docker service to run multiple instances of my webapp across my worker nodes\n",
    "        - On manager node, simply run: `docker service create --replicas=3 my-webapp` "
   ]
  },
  {
   "cell_type": "markdown",
   "metadata": {},
   "source": [
    "## Kubernetes"
   ]
  },
  {
   "cell_type": "markdown",
   "metadata": {},
   "source": [
    "- Similar idea as docker swarm\n",
    "    - Launch multiple instances: `kubectl run --replicas=100 my-webapp`\n",
    "    - Scale up or down depending on load: `kubectl scale --replicas=2000 my-webapp`\n",
    "    - Updating your app: `kubectl rolling-update my-webapp --image=my-webapp-v2`\n",
    "    - Rollback your app: `kubectl rolling-update my-webapp --rollback`\n",
    "\n",
    "- What is Kubernetes\n",
    "    - A **node** is a machine where kubernetes is installed\n",
    "        - This is where containers will be launched by kubernetes\n",
    "    - What happens when the node fails?\n",
    "        - Then the application goes down\n",
    "        - So you need more than one node\n",
    "    - A **cluster** is a set of nodes grouped together\n",
    "    - In the cluster, there is a single **master** node, where the Kubernetes control plane components are installed\n",
    "        - Watches over the nodes in the cluster and is responsible for the orchestration of the containers of the worker nodes\n",
    "    - Kubernetes comprises the following components:\n",
    "        - API server\n",
    "            - Frontend of K8s, everyone talks to the API server to interact with the cluster\n",
    "        - etcd\n",
    "            - key value store\n",
    "            - store all data to manage the cluster\n",
    "        - Scheulder   \n",
    "            - Distribute work/containers across multiple nodes\n",
    "        - Controller\n",
    "            - Brain for orchestration\n",
    "            - Respond when stuff goes down\n",
    "        - Container runtime\n",
    "            - Contains underlying software used to run containers (i.e. Docker)\n",
    "        - kubelet service\n",
    "            - Agent that runs on each node in the cluster\n",
    "            - Makes sure that the containers are running on the node as expected\n",
    "\n",
    "- kubectl (kube control tool)\n",
    "    - Kubernetes CLI\n",
    "        \n",
    "        \n",
    "        "
   ]
  }
 ],
 "metadata": {
  "language_info": {
   "name": "python"
  }
 },
 "nbformat": 4,
 "nbformat_minor": 2
}
