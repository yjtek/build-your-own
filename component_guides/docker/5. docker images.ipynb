{
 "cells": [
  {
   "cell_type": "markdown",
   "metadata": {},
   "source": [
    "- \"Creating an image\" is just creating a recipe to deploy an application\n",
    "- So to create a proper image, let's first think through what we need to do when deploying an application manually"
   ]
  },
  {
   "cell_type": "markdown",
   "metadata": {},
   "source": [
    "## Building an image"
   ]
  },
  {
   "cell_type": "markdown",
   "metadata": {},
   "source": [
    "- Steps when manually deploying an application\n",
    "    1. Create operating system (Ubuntu)\n",
    "    2. Update source repositories (e.g. apt repo)\n",
    "    3. Install system depedencies with apt\n",
    "    4. Install python dependencies with pip\n",
    "    5. Copy source code to /opt folder in container \n",
    "    6. Run web server using `flask` command \n",
    "\n",
    "See this translated to docker below:"
   ]
  },
  {
   "cell_type": "markdown",
   "metadata": {},
   "source": [
    "```docker\n",
    "FROM ubuntu \n",
    "\n",
    "RUN apt-get update\n",
    "RUN apt-get install python\n",
    "\n",
    "RUN pip install flask\n",
    "RUN pip install flask-mysql\n",
    "\n",
    "COPY . /opt/source-code\n",
    "\n",
    "ENTRYPOINT FLASK_APP=/opt/source-code/app.py flask run ## specify command when image is run as container\n",
    "```"
   ]
  },
  {
   "cell_type": "markdown",
   "metadata": {},
   "source": [
    "- Finally, build the image\n",
    "    - `docker build Dockerfile -t my-app-name`\n",
    "\n",
    "- Push to dockerhub\n",
    "    - `docker push my-docker-acctname/my-app-name`"
   ]
  },
  {
   "cell_type": "markdown",
   "metadata": {},
   "source": [
    "## Build process"
   ]
  },
  {
   "cell_type": "markdown",
   "metadata": {},
   "source": [
    "- When docker builds the image, it builds it in layers. Each line of instructinos stores only changes form the previous layer\n",
    "    - So for example, in the Dockerfile above, first layer is the base Ubuntu layer, then the next records changes in apt packages, followed by changes in pip packages, followed by source code, followed by entry point\n",
    "    - This accounts for each layer's size. The base layer (Ubuntu) is ~100MB, apt packages are ~300MB, pip packages are 6MB, source code is about 1KB, and entry point takes up almost no space\n",
    "\n",
    "- To see this info, run `docker history <image name>`\n",
    "    - All layers built are cached, so in the event anything fails, docker only needs to rebuild from cached layers if nothing else has changed\n"
   ]
  },
  {
   "cell_type": "markdown",
   "metadata": {},
   "source": []
  }
 ],
 "metadata": {
  "language_info": {
   "name": "python"
  }
 },
 "nbformat": 4,
 "nbformat_minor": 2
}
