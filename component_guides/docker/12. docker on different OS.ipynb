{
 "cells": [
  {
   "cell_type": "markdown",
   "metadata": {},
   "source": [
    "- Recall that docker containers share the same OS kernel as the docker host\n",
    "    - As a result, you cannot run a linux container on Windows/Mac OS\n",
    "    - But...you actually can?\n",
    "\n",
    "- Let's use Windows as an example. To run a linux container, you can either use \n",
    "    - Docker on Windows using Docker Toolbox    \n",
    "        - Install a linux VM, then run docker on it\n",
    "    - Docker Desktop for Windows\n",
    "        - Use microsoft hypervisor to create a separate linux VM, and run docker there\n",
    "    - Windows containers\n",
    "        - latest option\n",
    "\n",
    "- Similarly for Mac, you have options:\n",
    "    - Docker on Mac using docker toolbox\n",
    "        - Oracle virtualbox\n",
    "    - Docker desktop for Mac\n",
    "        - Hyperkit"
   ]
  }
 ],
 "metadata": {
  "language_info": {
   "name": "python"
  }
 },
 "nbformat": 4,
 "nbformat_minor": 2
}
