{
 "cells": [
  {
   "cell_type": "markdown",
   "metadata": {},
   "source": [
    "## Create and push image to dockerhub"
   ]
  },
  {
   "cell_type": "markdown",
   "metadata": {},
   "source": [
    "- `kubectl delete deployment nginx-deployment` + `kubectl delete service nginx-deployment`\n",
    "    - Clean up earlier deployments (if any)\n",
    "\n",
    "- `npm init -y` + `npm install express`\n",
    "    - Create basic nodejs application\n",
    "\n",
    "- `touch index.mjs`\n",
    "\n",
    "- `touch Dockerfile`\n",
    "\n",
    "- Add \"start\": \"node index.mjs\" into package.json under \"scripts\"\n",
    "\n",
    "- `docker build . -t my-dockerhub-acct/my-webapp`\n",
    "    - Build npm app\n",
    "    \n",
    "- `docker images | grep my-webapp`\n",
    "    - Check images\n",
    "\n",
    "- `docker login`\n",
    "    - Login dockerhub\n",
    "\n",
    "- `docker push my-dockerhub-acct/my-webapp`\n",
    "    - Push image to dockerhub"
   ]
  },
  {
   "cell_type": "markdown",
   "metadata": {},
   "source": [
    "## Make deployment"
   ]
  },
  {
   "cell_type": "markdown",
   "metadata": {},
   "source": [
    "- There are 3 ways to create a service\n",
    "    - ClusterIP (default when you run `expose deployment`)\n",
    "    - Node Port\n",
    "    - Load balancer"
   ]
  },
  {
   "cell_type": "markdown",
   "metadata": {},
   "source": [
    "### ClusterIP"
   ]
  },
  {
   "cell_type": "markdown",
   "metadata": {},
   "source": [
    "- `kubectl create deployment my-webapp --image=my-dockerhub-acct/my-webapp`\n",
    "    - Create deployment from remote dockerhub image\n",
    "\n",
    "- `kubectl get pods`\n",
    "    - Check completion\n",
    "\n",
    "- `kubectl expose deployment my-webapp --port=3000`\n",
    "    - Expose the app running on port 3000 (as specified in the actual app)\n",
    "\n",
    "- `kubectl get services`\n",
    "\n",
    "- `minikube ssh` + `curl 10.97.47.157:3000`\n",
    "    - Check connection to pod\n",
    "\n",
    "- `kubectl scale deployment my-webapp --replicas=4`\n",
    "    - scale deployment\n",
    "\n",
    "- `kubectl get pods -o wide`\n",
    "    - Get pod IPs, notice that is it different from the ClusterIP when you do `kubectl get services`\n",
    "    - Each pod is available via ClusterIP, and K8s automatically decides which port to route your request to\n",
    "\n",
    "- `kubectl delete service my-webapp`"
   ]
  },
  {
   "cell_type": "markdown",
   "metadata": {},
   "source": [
    "### Node Port"
   ]
  },
  {
   "cell_type": "markdown",
   "metadata": {},
   "source": [
    "- `kubectl expose deployment my-webapp --type=NodePort --port=3000`\n",
    "    - Instead of relying on the default expose, create service of type `NodePort`\n",
    "    - If you run `kubectl get services`, you will see the service with type \"NodePort\" instead of \"ClusterIP\"\n",
    "    - What is the difference?\n",
    "        - Previously, to access ClusterIP, I had to ssh into the k8s instance to connect \n",
    "        - Now, I can connect to node IP without ssh!\n",
    "\n",
    "- `minikube service my-webapp`\n",
    "    - You can see the URL of the service!!\n",
    "\n",
    "- `kubectl delete service my-webapp`"
   ]
  },
  {
   "cell_type": "markdown",
   "metadata": {},
   "source": [
    "### Load balancer"
   ]
  },
  {
   "cell_type": "markdown",
   "metadata": {},
   "source": [
    "- `kubectl expose deployment my-webapp type=LoadBalancer --port=3000`\n",
    "    - Use loadbalancer\n",
    "\n",
    "- `kubectl get services`\n",
    "    - You can see \"external IP\" is pending if you use minikube\n",
    "    - But if you use it in cloud (e.g. AWS), you will see your load balancer IP address assigned automatically!\n",
    "\n",
    "- `minikube service my-webapp`\n",
    "\n",
    "- `kubectl describe deployment my-webapp`\n"
   ]
  },
  {
   "cell_type": "markdown",
   "metadata": {},
   "source": [
    "## Deployment `StrategyType`"
   ]
  },
  {
   "cell_type": "markdown",
   "metadata": {},
   "source": [
    "- By default, K8s uses \"RollingUpdate\"\n",
    "    - What does this mean?\n",
    "    - When you release new version of your application, you will roll out by creating new pods with new image while previous pods are still running. Then the old pods will gradually be shut down\n",
    "\n",
    "- Imagine you now change your app details (your index.mjs)\n",
    "\n",
    "- `docker build . -t my-dockerhub-acct/my-webapp:2.0.0`\n",
    "\n",
    "- `docker push my-dockerhub-acct/my-webapp:2.0.0`\n",
    "\n",
    "- `kubectl set image deployment my-webapp my-webapp=my=dockerhub-acct/my-webapp:2.0.0`\n",
    "\n",
    "- `kubectl rollout status deploy my-webapp`\n",
    "\n",
    "- `kubectl get pods`  | `kubectl get deployments`\n",
    "    - Check that your app is updated!\n",
    "\n",
    "- `kubectl delete pod my-webapp-abcdefg` | `kubectl get pods`\n",
    "    - new pod created automatically even if 1 gets deleted"
   ]
  },
  {
   "cell_type": "markdown",
   "metadata": {},
   "source": [
    "## Minikube dashboard"
   ]
  },
  {
   "cell_type": "markdown",
   "metadata": {},
   "source": [
    "- `minikube dashboard`\n",
    "    - use dashboard to check health of pods\n",
    "\n",
    "- \n"
   ]
  }
 ],
 "metadata": {
  "language_info": {
   "name": "python"
  }
 },
 "nbformat": 4,
 "nbformat_minor": 2
}
