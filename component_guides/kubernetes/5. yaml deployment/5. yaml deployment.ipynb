{
 "cells": [
  {
   "cell_type": "markdown",
   "metadata": {},
   "source": [
    "- So far, we've used imperative approach to create deployment and services\n",
    "- Typically, this is bad, because it involves a lot of typing\n",
    "- Instead, declarative approach is used\n",
    "    - Describe the deployment you want as a yaml file, and let K8s handle the details"
   ]
  },
  {
   "cell_type": "markdown",
   "metadata": {},
   "source": [
    "- `kubectl delete all --all`\n",
    "    - Remove all existing resources for now\n",
    "\n",
    "- `kubectl get pods` | `kubectl get services` | `kubectl get deployments`  \n",
    "    - Check success of deletion\n",
    "\n",
    "- Create deployment.yaml and service.yaml\n",
    "\n",
    "- `kubectl apply -f deployment.yaml` \n",
    "\n",
    "- `kubectl apply -f service.yaml` \n",
    "\n",
    "- `kubectl delete -f deployment.yaml -f service.yaml`"
   ]
  },
  {
   "cell_type": "markdown",
   "metadata": {},
   "source": [
    "## Deploying webapp with 2 endpoints"
   ]
  },
  {
   "cell_type": "markdown",
   "metadata": {},
   "source": [
    "- Let's suppose we deploy our app with 2 apps that need to talk to each other\n",
    "    - 1 nginx app\n",
    "        - Will have a service exposed with ClusterIP\n",
    "    - 1 webapp app\n",
    "        - Will have a service exposed with Load Balancer \n",
    "    - Both of these apps will live in a K8s cluster\n",
    "\n",
    "- So we can connect to webapp from outside the K8s cluster, but not to nginx\n",
    "\n",
    "- Inside the webapp, we create 2 endpoints\n",
    "    - One root endpoint `/`\n",
    "    - One `/nginx` endpoint\n",
    "\n",
    "    - If the `/` endpoint is hit, just return the usual helloworld\n",
    "    - If the `/nginx` endpoint is hit, connect to nginx service using ClusterIP, then return result to client with content from nginx pod\n",
    "\n",
    "- `docker build . -t my-dockerhub-acct/my-webapp`\n",
    "\n",
    "- `docker push my-dockerhub-acct/my-webapp`\n",
    "\n",
    "- Create your `nginx.yaml` and `webapp_to_nginx.yaml`\n",
    "\n",
    "- `kubectl apply -f webapp_to_nginx.yaml -f nginx.yaml`\n",
    "\n",
    "- `kubectl exec k8s-web-to-nginx-abcdefg-hash123 -- nslookup nginx`\n",
    "- `kubectl exec k8s-web-to-nginx-abcdefg-hash123 -- wget -q0- http://nginx`\n",
    "    - Interestingly, by linking your deployments via the yaml, you can resolve pods by their deployment names instead of IP using the internal DNS service in K8s\n",
    "\n"
   ]
  }
 ],
 "metadata": {
  "language_info": {
   "name": "python"
  }
 },
 "nbformat": 4,
 "nbformat_minor": 2
}
