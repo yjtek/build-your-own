{
 "cells": [
  {
   "cell_type": "markdown",
   "metadata": {},
   "source": [
    "## Setup"
   ]
  },
  {
   "cell_type": "markdown",
   "metadata": {},
   "source": [
    "- Install minikube, creates a single virtual node that will be both your master and worker node\n",
    "    - Use one of virtualbox, vmware, docker, hyper-v, parallels to set up the virtual node and manage the cluster\n",
    "\n",
    "- Install kubectl\n",
    "\n",
    "- Install virtualbox"
   ]
  },
  {
   "cell_type": "markdown",
   "metadata": {},
   "source": [
    "## Practicals"
   ]
  },
  {
   "cell_type": "markdown",
   "metadata": {},
   "source": [
    "- `minikube start --driver=docker` \n",
    "    - start minikube\n",
    "- `minikube status` \n",
    "    - check status, should show connected\n",
    "- `minikube ip`\n",
    "    - Find IP address assigned to kubernetes node, so we can connect with ssh\n",
    "- `minikube ssh` / `ssh docker@192.168.49.2` \n",
    "    - Use minikube ssh to connect to the kubernetes node\n",
    "- `docker ps`\n",
    "    - Find all running docker containers\n",
    "- Note: if you run `kubectl` command now, you will get error\n",
    "    - This is because `kubectl` cannot be executed within the kubernetes node; it is an external tool \n",
    "- `exit`\n",
    "    - Leave the ssh\n",
    "- `kubectl cluster-info`\n",
    "- `kubectl get nodes`\n",
    "    - Only 1 node, because minikube only creates 1 node\n",
    "- `kubectl get pods`\n",
    "    - No resources found in default namespace\n",
    "    - Because you only see pods in the \"default\" namespace\n",
    "    - And nothing has been created by you yet, so no resources found\n",
    "- `kubectl get namespaces`\n",
    "- `kubectl get pods --namespace=kube-system`"
   ]
  },
  {
   "cell_type": "markdown",
   "metadata": {},
   "source": [
    "## Create pod manually"
   ]
  },
  {
   "cell_type": "markdown",
   "metadata": {},
   "source": [
    "- `kubectl run nginx --image=nginx`\n",
    "    - Create container based on nginx image\n",
    "    - Container runs inside K8s pod\n",
    "\n",
    "- `kubectl get pods`\n",
    "    - Get pod status that you just created\n",
    "\n",
    "- `kubectl describe pod nginx`\n",
    "    - Gives you pod details\n",
    "\n",
    "- `minikube ssh`\n",
    "- `docker ps | grep nginx`\n",
    "    - We see 2 nginx containers, nginx and and extra \"/pause\" container\n",
    "    - Whenever docker is the runtime, there is always a pause container for each specific pod\n",
    "    - This is created to \"lock\" namespace of specific pod, because all containers in a pod share namespace\n",
    "    - To connect to container, you can connect via ID, or name\n",
    "\n",
    "- `docker exec -it 90c4d9709ccb sh`\n",
    "    - Enter the actual nginx container\n",
    "\n",
    "- `hostname`\n",
    "    - Check hostname of container\n",
    "\n",
    "- `hostname -i`\n",
    "    - Check IP address of container\n",
    "\n",
    "- `curl 10.244.0.3`\n",
    "    - You should see a \"welcome to nginx\" page, which shows that the webserver is up and running\n",
    "\n",
    "- `exit` + `exit`\n",
    "    - Exit both your pod AND kubernetes\n",
    "\n",
    "- `kubectl get pods -o wide`\n",
    "    - You should still see your nginx IP address matches\n",
    "\n",
    "- `curl 10.244.0.3`\n",
    "    - Now it fails. Because the IP address assigned to the container is internal to the IP address of the pod, and not accessible outside the cluster!\n",
    "\n",
    "- `kubectl delete pod nginx`"
   ]
  },
  {
   "cell_type": "markdown",
   "metadata": {},
   "source": []
  }
 ],
 "metadata": {
  "language_info": {
   "name": "python"
  }
 },
 "nbformat": 4,
 "nbformat_minor": 2
}
