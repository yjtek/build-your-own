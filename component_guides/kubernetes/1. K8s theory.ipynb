{
 "cells": [
  {
   "cell_type": "markdown",
   "metadata": {},
   "source": [
    "## What is Kubernetes?"
   ]
  },
  {
   "cell_type": "markdown",
   "metadata": {},
   "source": [
    "- K8s is container orchestration tool\n",
    "- Docker letes you create containers on any computer, but if you want to have multiple deployments on multiple servers, in some specific order, in a scalable manner, then K8s is a must have\n",
    "\n",
    "- Takes care of\n",
    "    - Automatic deployment of containerized applications across servers\n",
    "    - Distribution of load across servers\n",
    "    - Auto-scaling\n",
    "    - Monitoring and health check of containers\n",
    "    - Replacement of failed containers\n",
    "\n",
    "- Supported runtimes\n",
    "    - Docker\n",
    "    - CRI-O\n",
    "    - containerd"
   ]
  },
  {
   "cell_type": "markdown",
   "metadata": {},
   "source": [
    "## What is pod?"
   ]
  },
  {
   "cell_type": "markdown",
   "metadata": {},
   "source": [
    "- Smallest unit in Kubernetes\n",
    "- In a pod, there are\n",
    "    - containers\n",
    "    - shared volumes\n",
    "    - shared network resources\n",
    "    - shared IP address\n",
    "\n",
    "- Each pod must be located on the same server; you cannot spread containers from 1 pod across different servers within the K8s cluster"
   ]
  },
  {
   "cell_type": "markdown",
   "metadata": {},
   "source": [
    "## Clusters and Nodes"
   ]
  },
  {
   "cell_type": "markdown",
   "metadata": {},
   "source": [
    "- A K8s cluster comprises multiple nodes\n",
    "- Each node is a server (bare metal or virtual)\n",
    "- In each node, there are pods\n",
    "- In each pod, there are containers\n",
    "\n",
    "- Multiple such servers can exist within a K8s cluster, and these can be in different data centres \n",
    "    - Typically though, nodes in the same K8s cluster are located close to each other for more efficiency\n",
    "\n",
    "- Pods are created on different nodes, and are automatically managed by K8s\n",
    "- Your job is to create the nodes, and create clusters based on the nodes. Once this is defined, everything is automated\n",
    "\n",
    "- How do nodes within a cluster communicate with each other?\n",
    "    - In a K8s cluster, there is 1 master node and many worker nodes\n",
    "    - Master node manages worker nodes, and handles load distribution across workers\n",
    "    - All pods related to your app are deployed on worker nodes; master node handles only system pods which deal with actual work of the cluster\n",
    "    - master node is control plane, does not run client application"
   ]
  },
  {
   "cell_type": "markdown",
   "metadata": {},
   "source": [
    "## Kubernetes Services"
   ]
  },
  {
   "cell_type": "markdown",
   "metadata": {},
   "source": [
    "- Within both master and worker nodes, there are services automatically set up\n",
    "    - kubelet\n",
    "        - Communicates with API server service on master node\n",
    "    - kube-proxy\n",
    "        - Handles network communication within node and between nodes\n",
    "    - container runtime\n",
    "        - run the actual container in each node (i.e. Docker)\n",
    "\n",
    "- On master node, there are some additional services\n",
    "    - scheduler\n",
    "        - handle load distribution between worker nodes in cluster\n",
    "    - Kube controller manager\n",
    "        - controls what happens on each node in the cluster\n",
    "    - Cloud controller manager\n",
    "        - interacts with cloud service provider\n",
    "    - etcd\n",
    "        - stores all logs related to operation of entire K8s cluster as key-value pairs\n",
    "    - DNS service\n",
    "        - handles names resolution in entire cluster\n",
    "        - using this, you can connect to specific deployment through the name of the service"
   ]
  },
  {
   "cell_type": "markdown",
   "metadata": {},
   "source": [
    "## kubectl"
   ]
  },
  {
   "cell_type": "markdown",
   "metadata": {},
   "source": [
    "- Talks to the API server on master node over https, which controls entire K8s cluster\n",
    "- So basically using kubectl, you can control anything within the cluster"
   ]
  },
  {
   "cell_type": "markdown",
   "metadata": {},
   "source": []
  }
 ],
 "metadata": {
  "language_info": {
   "name": "python"
  }
 },
 "nbformat": 4,
 "nbformat_minor": 2
}
