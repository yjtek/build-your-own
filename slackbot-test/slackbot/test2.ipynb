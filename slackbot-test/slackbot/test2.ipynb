{
 "cells": [
  {
   "cell_type": "code",
   "execution_count": null,
   "id": "2d691c96",
   "metadata": {},
   "outputs": [],
   "source": [
    "from slack_sdk import WebClient\n",
    "\n",
    "from utils.secrets import get_secret\n",
    "from utils.message_kit import (\n",
    "    post_regular_message,\n",
    "    post_ephemeral_message,\n",
    "    post_block_formatted_message,\n",
    "    find_channel,\n",
    "    pull_messages_from_oldest_to_latest,\n",
    ")"
   ]
  },
  {
   "cell_type": "code",
   "execution_count": null,
   "id": "d9623f42",
   "metadata": {},
   "outputs": [],
   "source": [
    "SLACK_BOT_TOKEN: str = get_secret('bot_user_oauth_token')\n",
    "OPENAI_TOKEN: str = get_secret('slackbot_openai_svc_acct_secretkey')\n",
    "MY_SLACK_USER_ID: str = get_secret('yj_slack_user_id')\n",
    "\n",
    "client = WebClient(token=SLACK_BOT_TOKEN)\n",
    "SLACK_CHANNEL_ID: str = find_channel(client=client, channel_name='...')"
   ]
  },
  {
   "cell_type": "code",
   "execution_count": null,
   "id": "f224e8be",
   "metadata": {},
   "outputs": [],
   "source": [
    "import time\n",
    "from typing import TypedDict\n",
    "\n",
    "Message = TypedDict('Message', {'user': str, 'ts': str, 'thread_ts': str, 'text': str})\n",
    "\n",
    "def _process_message(message: dict) -> Message:\n",
    "    if not message.get('thread_ts'):\n",
    "        return _parse_single_message(message)\n",
    "    return _parse_message_thread(message)\n",
    "\n",
    "def _parse_single_message(message: dict) -> Message:\n",
    "    return {\n",
    "        'user': message.get('user'),\n",
    "        'ts': message.get('ts'),\n",
    "        'thread_ts': message.get('thread_ts'),\n",
    "        'text': message.get('text'),\n",
    "    }\n",
    "\n",
    "def _parse_message_thread(message: dict) -> list[Message]:\n",
    "    replies = client.conversations_replies(\n",
    "        channel=SLACK_CHANNEL_ID,\n",
    "        ts = message.get('thread_ts')\n",
    "    )\n",
    "    # return replies.get('messages')\n",
    "    parse_replies = [_parse_single_message(x) for x in replies.get('messages')]\n",
    "    return parse_replies\n",
    "\n",
    "def pull_all_messages_from_oldest_to_latest(\n",
    "        client: WebClient, \n",
    "        channel_id: str, \n",
    "        oldest: float, \n",
    "        latest: float\n",
    ") -> list[Message]:\n",
    "    result = client.conversations_history(\n",
    "        channel=channel_id, \n",
    "        latest=latest, \n",
    "        oldest=oldest\n",
    "    )\n",
    "    ## Get all top level messages\n",
    "    root_messages = result.get('messages')\n",
    "    processed_messages = [_process_message(x) for x in root_messages]\n",
    "    return processed_messages"
   ]
  }
 ],
 "metadata": {
  "language_info": {
   "name": "python"
  }
 },
 "nbformat": 4,
 "nbformat_minor": 5
}
